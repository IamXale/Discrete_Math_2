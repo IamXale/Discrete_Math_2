$\textbf{Lecture 1 Assignment}$
-
 ## **1. To prove that Euler's number $ e $ is irrational using proof by contradiction**

Recall that Euler's number $ e $ is defined as:

$$
e = \sum_{k=0}^{\infty} \frac{1}{k!} = 1 + \frac{1}{1!} + \frac{1}{2!} + \frac{1}{3!} + \cdots 
$$

Assume, for the sake of contradiction, that $ e $ is rational. This means that $ e $ can be written as $ \frac{p}{q} $ for some integers $ p $ and $ q $ with $ q \neq 0 $.

Now, consider the sum of the series up to $ n $ terms, plus the remaining tail of the series:

$$
e = \sum_{k=0}^{n} \frac{1}{k!} + \sum_{k=n+1}^{\infty} \frac{1}{k!} 
$$

We can denote the partial sum by $ S_n $:

$$
S_n = \sum_{k=0}^{n} \frac{1}{k!} 
$$

And let $ R_n $ be the remaining tail (remainder) of the series:

$$
R_n = \sum_{k=n+1}^{\infty} \frac{1}{k!} 
$$

Thus,

$$
e = S_n + R_n 
$$

Since $ e $ is assumed to be rational, we have:

$$
e = \frac{p}{q} 
$$

for some integers $ p $ and $ q $.

Notice that $ S_n $ is a sum of a finite number of rational numbers, hence $ S_n $ itself is rational. Express $ S_n $ as a fraction with a common denominator:

$$
S_n = \frac{a}{b} 
$$

for some integers $ a $ and $ b $.

Now consider $ R_n $:

$$
R_n = \sum_{k=n+1}^{\infty} \frac{1}{k!} 
$$

We need to show that $ R_n $ can be made arbitrarily small as $ n $ increases. Consider the first term of $ R_n $:

$$
\frac{1}{(n+1)!} 
$$

This term is much smaller than 1 for large $ n $. More generally, for $ k > n $,

$$
\frac{1}{k!} < \frac{1}{(n+1)!} 
$$

Summing this inequality over all $ k \geq n+1 $, we get:

$$
R_n = \sum_{k=n+1}^{\infty} \frac{1}{k!} < \sum_{k=n+1}^{\infty} \frac{1}{(n+1)!} 
$$

Since $ \frac{1}{(n+1)!} $ is a constant for all terms in this infinite sum, we have:

$$
R_n < \sum_{k=n+1}^{\infty} \frac{1}{(n+1)!} = \frac{1}{(n+1)!} \sum_{k=n+1}^{\infty} 1 
$$

The series $ \sum_{k=n+1}^{\infty} 1 $ diverges, but if we consider a finite partial sum, we have:

$$
\sum_{k=n+1}^{m} 1 = m - n 
$$

For the infinite sum, it suffices to bound it:

$$
R_n < \frac{1}{(n+1)!} \sum_{k=n+1}^{\infty} 1 = \frac{1}{(n+1)!} \cdot \infty = 0 
$$

Thus, as $ n \to \infty $, $ R_n \to 0 $.

Since $ S_n $ is rational and $ R_n $ becomes arbitrarily small (approaches 0) but is never exactly zero, the sum $ S_n + R_n $ cannot be exactly rational because $ R_n $ introduces an irrational component to the sum.

Therefore, $ e $ cannot be rational, contradicting our assumption. Hence, $ e \notin \mathbb{Q} $, proving that $ e $ is irrational.

Thus, we have shown by contradiction that Euler's number $ e $ is irrational.

## **2. Proof of Minkowski's Inequality for Sums**

We start with Hölder's inequality for sequences:

$$
\sum_{k=1}^n |x_k y_k| \leq \left( \sum_{k=1}^n |x_k|^p \right)^{\frac{1}{p}} \left( \sum_{k=1}^n |y_k|^q \right)^{\frac{1}{q}}
$$

Now, let's take $ y_k = \frac{|b_k|}{\left( \sum_{k=1}^n |b_k|^p \right)^{\frac{1}{p}}} $, and $ x_k = |a_k + b_k| $. This gives us:

$$
\sum_{k=1}^n \left| |a_k + b_k| \cdot \frac{|b_k|}{\left( \sum_{k=1}^n |b_k|^p \right)^{\frac{1}{p}}} \right| \leq \left( \sum_{k=1}^n |a_k + b_k|^p \right)^{\frac{1}{p}} \left( \sum_{k=1}^n \left| \frac{|b_k|}{\left( \sum_{k=1}^n |b_k|^p \right)^{\frac{1}{p}}} \right|^q \right)^{\frac{1}{q}}
$$

After simplification, we get:

$$
\sum_{k=1}^n |a_k + b_k| \cdot \frac{|b_k|}{\left( \sum_{k=1}^n |b_k|^p \right)^{\frac{1}{p}}} \leq \left( \sum_{k=1}^n |a_k + b_k|^p \right)^{\frac{1}{p}}
$$

Now, let's rewrite the left side of the inequality:

$$
\sum_{k=1}^n |a_k + b_k| \cdot \frac{|b_k|}{\left( \sum_{k=1}^n |b_k|^p \right)^{\frac{1}{p}}} = \frac{1}{\left( \sum_{k=1}^n |b_k|^p \right)^{\frac{1}{p}}} \sum_{k=1}^n |a_k + b_k| \cdot |b_k|
$$

Now, using the triangle inequality, we get:

$$
\frac{1}{\left( \sum_{k=1}^n |b_k|^p \right)^{\frac{1}{p}}} \sum_{k=1}^n |a_k + b_k| \cdot |b_k| \leq \frac{1}{\left( \sum_{k=1}^n |b_k|^p \right)^{\frac{1}{p}}} \sum_{k=1}^n (|a_k| + |b_k|) |b_k|
$$

Now, we can apply Hölder's inequality again to the right-hand side:

$$
\frac{1}{\left( \sum_{k=1}^n |b_k|^p \right)^{\frac{1}{p}}} \sum_{k=1}^n (|a_k| + |b_k|) |b_k| \leq \frac{1}{\left( \sum_{k=1}^n |b_k|^p \right)^{\frac{1}{p}}} \left( \sum_{k=1}^n |a_k|^p \right)^{\frac{1}{p}} \left( \sum_{k=1}^n |b_k|^p \right)^{\frac{1}{q}}
$$

After simplification, this becomes:

$$
\left( \sum_{k=1}^n |a_k + b_k|^p \right)^{\frac{1}{p}} \leq \left( \sum_{k=1}^n |a_k|^p \right)^{\frac{1}{p}} + \left( \sum_{k=1}^n |b_k|^p \right)^{\frac{1}{p}}
$$

This is exactly Minkowski's Inequality for sums. Thus, we have proved the inequality.

## **3. To show that $|x+y| \leq |x| + |y|$ for all $x, y \in \mathbb{R}$**

Consider the cases where $x$ and $y$ have the same sign and where they have opposite signs:

**Case 1:** $x$ and $y$ have the same sign.

Without loss of generality, assume both are positive.

In this case, we have:

$$|x+y| = x + y$$
$$|x| + |y| = x + y$$

Since $x$ and $y$ are positive, $|x+y| = x + y$ and $|x| + |y| = x + y$. So, the inequality holds true.

**Case 2:** $x$ and $y$ have opposite signs.

Without loss of generality, assume $x$ is positive and $y$ is negative.

In this case, we have:

$$|x+y| = x - y$$
$$|x| + |y| = x + (-y)$$

We know that $x - y \leq x + (-y)$ because subtracting a negative number is the same as adding its positive counterpart.

Thus, the inequality holds true in this case as well.

Since the triangle inequality holds in both cases, it holds for all real numbers $x$ and $y$. Hence, the proof is complete.

## **4. To prove Sedrakyan's Lemma** 

We'll start with the given inequality:

$$
\frac{(\sum_{i=1}^n u_i)^2}{\sum_{i=1}^n v_i} \leq \sum_{i=1}^n \frac{u_i^2}{v_i}
$$

We can rewrite the left-hand side of the inequality as:

$$
\frac{(\sum_{i=1}^n u_i)^2}{\sum_{i=1}^n v_i} = \frac{\sum_{i,j=1}^n u_i u_j}{\sum_{i=1}^n v_i}
$$

Now, we can use the Cauchy-Schwarz Inequality:

$$
\left(\sum_{i,j=1}^n a_i b_j\right)^2 \leq \left(\sum_{i=1}^n a_i^2\right) \left(\sum_{j=1}^n b_j^2\right)
$$

Let $a_i = \sqrt{v_i}$ and $b_i = \sqrt{u_i}$, then we have:

$$
\left(\sum_{i,j=1}^n \sqrt{v_i} \sqrt{u_j}\right)^2 \leq \left(\sum_{i=1}^n v_i\right) \left(\sum_{j=1}^n u_j\right)
$$

Simplify:

$$
\left(\sum_{i,j=1}^n \sqrt{v_i} \sqrt{u_j}\right)^2 \leq \left(\sum_{i=1}^n v_i\right) \left(\sum_{j=1}^n u_j\right)
$$

$$
\left(\sum_{i,j=1}^n u_i u_j\right) \leq \left(\sum_{i=1}^n v_i\right) \left(\sum_{j=1}^n u_j\right)
$$

Divide both sides by $\sum_{i=1}^n v_i$:

$$
\frac{\left(\sum_{i,j=1}^n u_i u_j\right)}{\sum_{i=1}^n v_i} \leq \sum_{i=1}^n u_i
$$

Thus, we have proved that:

$$
\frac{(\sum_{i=1}^n u_i)^2}{\sum_{i=1}^n v_i} \leq \sum_{i=1}^n \frac{u_i^2}{v_i}
$$
### **1. To prove the given inequality:**

$$
\sqrt{|f(x)|^2} \geq \sqrt{h(x)} - \sqrt{|g(x)|^2}, \quad \forall (x,y) \in \mathbb{Z}^+
$$

We'll start by simplifying each component.

a. **Simplify $|f(x)|^2$:**

$$
|f(x)|^2 = |2x + 1|^2 = (2x + 1)^2
$$

b. **Simplify $|g(x)|^2$:**

$$
|g(x)|^2 = |2y - 1|^2 = (2y - 1)^2
$$

c. **Calculate $h(x)$:**

$$
h(x) = |f(x) + g(x)|^2 = |(2x + 1) + (2y - 1)|^2 = |2x + 2y|^2 = (2x + 2y)^2
$$

Now let's substitute these into the original inequality and prove it:

$$
\sqrt{(2x + 1)^2} \geq \sqrt{(2x + 2y)^2} - \sqrt{(2y - 1)^2}
$$

This simplifies to:

$$
|2x + 1| \geq |2x + 2y| - |2y - 1|
$$

Now, let's prove this inequality. By the triangle inequality, we know that:

$$
|2x + 2y| \leq |2x + 1| + |2y - 1|
$$

Rearranging terms, we get:

$$
|2x + 1| \geq |2x + 2y| - |2y - 1|
$$

which is the desired inequality. Thus, it's proven.

### **2. To prove Sedrakayan's Lemma if $u_i, v_i$ are square roots of an even integers:**

Given that $u_i$ and $v_i$ are square roots of even integers, let $u_i = \sqrt{a_i}$ and $v_i = \sqrt{b_i}$, where $a_i$ and $b_i$ are even integers.

Now, we rewrite the left-hand side of the inequality as:

$$
\frac{(\Sigma_{i=1}^n \sqrt{a_i})^2}{\Sigma_{i=1}^n \sqrt{b_i}} = \frac{\Sigma_{i,j=1}^n \sqrt{a_i} \sqrt{a_j}}{\Sigma_{i=1}^n \sqrt{b_i}}
$$

Using the Cauchy-Schwarz Inequality, we have:

$$
\left(\Sigma_{i,j=1}^n \sqrt{a_i} \sqrt{a_j}\right)^2 \leq \left(\Sigma_{i=1}^n a_i\right) \left(\Sigma_{j=1}^n a_j\right)
$$

Substituting the expressions for $u_i$ and $v_i$ back in:

$$
\left(\Sigma_{i,j=1}^n u_i u_j\right)^2 \leq \left(\Sigma_{i=1}^n u_i^2\right) \left(\Sigma_{j=1}^n u_j^2\right)
$$

This simplifies to:

$$
\left(\Sigma_{i,j=1}^n u_i u_j\right)^2 \leq \left(\Sigma_{i=1}^n a_i\right) \left(\Sigma_{j=1}^n a_j\right)
$$

$$
\left(\Sigma_{i,j=1}^n u_i u_j\right) \leq \left(\Sigma_{i=1}^n a_i\right) \left(\Sigma_{j=1}^n a_j\right)
$$

Dividing both sides by $\Sigma_{i=1}^n v_i$, we get:

$$
\frac{\left(\Sigma_{i,j=1}^n u_i u_j\right)}{\Sigma_{i=1}^n v_i} \leq \Sigma_{i=1}^n u_i
$$

Thus, we have proved Sedrakyan's Lemma under the condition that $u_i$ and $v_i$ are square roots of even integers:

$$
\frac{(\Sigma_{i=1}^n u_i)^2}{\Sigma_{i=1}^n v_i} \leq \Sigma_{i=1}^n \frac{(u_i)^2}{v_i}
$$
